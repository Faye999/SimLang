{
 "cells": [
  {
   "cell_type": "markdown",
   "metadata": {},
   "source": [
    "# Simulating Language 8, Evolving signalling (lab)"
   ]
  },
  {
   "cell_type": "markdown",
   "metadata": {},
   "source": [
    "This simulation implements the evolution of an innate signalling system, using the same basic signalling system code from the last labs. Make sure that you are familiar with the way in which agents and signalling systems were encoded; the same data structures are used here. \n",
    "\n",
    "**N.B. There's a lot of code for this lab. You might want to skim through the first part of the notebook quite quickly so you can get to the section on \"Running the Simulation\", and then go back and look at the code to try and understand how it works later.**\n",
    "\n",
    "First, here's the code that we're reusing from the previous labs:"
   ]
  },
  {
   "cell_type": "code",
   "execution_count": null,
   "metadata": {},
   "outputs": [],
   "source": [
    "import random\n",
    "\n",
    "%matplotlib inline\n",
    "import matplotlib.pyplot as plt\n",
    "from IPython.display import set_matplotlib_formats\n",
    "set_matplotlib_formats('svg', 'pdf')\n",
    "\n",
    "def wta(items):\n",
    "    maxweight = max(items)\n",
    "    candidates = []\n",
    "    for i in range(len(items)):\n",
    "        if items[i] == maxweight:\n",
    "            candidates.append(i)\n",
    "    return random.choice(candidates)\n",
    "\n",
    "def communicate(speaker_system, hearer_system, meaning):\n",
    "    speaker_signal = wta(speaker_system[meaning])\n",
    "    hearer_meaning = wta(hearer_system[speaker_signal])\n",
    "    if meaning == hearer_meaning:\n",
    "        return 1\n",
    "    else:\n",
    "        return 0\n",
    "\n",
    "def pop_update(population):\n",
    "    speaker_index = random.randrange(len(population))\n",
    "    hearer_index = random.randrange(len(population) - 1)\n",
    "    if hearer_index >= speaker_index: \n",
    "        hearer_index += 1\n",
    "    speaker = population[speaker_index]\n",
    "    hearer = population[hearer_index]\n",
    "    meaning = random.randrange(len(speaker[0]))\n",
    "    success = communicate(speaker[0], hearer[1], meaning)\n",
    "    speaker[2][0] += success\n",
    "    speaker[2][1] += 1\n",
    "    hearer[2][2] += success\n",
    "    hearer[2][3] += 1"
   ]
  },
  {
   "cell_type": "code",
   "execution_count": null,
   "metadata": {},
   "outputs": [],
   "source": [
    "from copy import deepcopy"
   ]
  },
  {
   "cell_type": "markdown",
   "metadata": {},
   "source": [
    "### Copying lists\n",
    "\n",
    "The first part of the new code imports the `deepcopy` function; this is needed because of the way in which Python treats copies of lists. Have a look at the code in the example below, and see if you can guess what happens, then try it out.\n",
    "\n",
    "```python\n",
    "a = [1, 2, 3]\n",
    "b = a\n",
    "print(b)\n",
    "a[1] = 5\n",
    "print(b)\n",
    "```"
   ]
  },
  {
   "cell_type": "code",
   "execution_count": null,
   "metadata": {},
   "outputs": [],
   "source": []
  },
  {
   "cell_type": "markdown",
   "metadata": {},
   "source": [
    "First, list a is created, then is ‘copied’ to b, then one of the values in a is changed. But note that the value in b is also changed!\n",
    "\n",
    "\n",
    "When copying compound objects (i.e. lists), by default Python fills the new list (here: b) with references to elements in the old list (a); this means that the contents of b is actually the same as that of a, even if we change a after we ‘copied’ it.\n",
    "\n",
    "If, instead, we want to ensure that the copied list contains new and different items, then we need to make a deep copy, using the deepcopy function from the copy module rather than simple assignment. Look at the next example to see how this works.\n",
    "\n",
    "```python\n",
    "x = [1, 2, 3]\n",
    "y = deepcopy(x)\n",
    "print(y)\n",
    "x[1] = 5\n",
    "print(y)\n",
    "print(x)\n",
    "```"
   ]
  },
  {
   "cell_type": "code",
   "execution_count": null,
   "metadata": {},
   "outputs": [],
   "source": []
  },
  {
   "cell_type": "markdown",
   "metadata": {},
   "source": [
    "### Simulation parameters\n",
    "\n",
    "The next section defines a number of variables which are used as parameters in the simulation, with comments explaining what they are used for (anything after the hash sign (#) is a comment, and thus ignored by Python). \n",
    "\n",
    "We define the variables individually, and then refer to them by name in the following functions, so that when we want to run the simulation with different parameters, all we need do is either change the values here and re-run the cell, or enter new values wherever we are in the notebook and run a new simulation. \n",
    "\n",
    "You may find that you end up with different bits of the notebook being run out of order. This is OK, but sometimes gets a bit confusing. When I'm working with a complicated notebook, I occasionally go back to the top and simply press SHIFT+ENTER over and over to \"refresh\" the notebook. There's also a menu item in the \"Cell\" menu to run all the cells, which does the same job, but note that it will stop if it hits a cell with an error in it."
   ]
  },
  {
   "cell_type": "code",
   "execution_count": null,
   "metadata": {},
   "outputs": [],
   "source": [
    "mutation_rate = 0.001  # probability of mutation per weight\n",
    "mutation_max = 1       # maximum value of a random weight\n",
    "send_weighting = 10    # weighting factor for a send score\n",
    "receive_weighting = 10 # weighting factor for receive score\n",
    "meanings = 3           # number of meanings\n",
    "signals = 3            # number of signals\n",
    "interactions = 1000    # number of interactions per generation\n",
    "size = 100             # size of population"
   ]
  },
  {
   "cell_type": "markdown",
   "metadata": {},
   "source": [
    "### Fitness functions\n",
    "\n",
    "Evolutionary algorithms require a function which measures fitness and helps determine which agents will reproduce into the next generation. The two functions in the cell below define fitness for an individual agent (`fitness`) and for the whole population (`sum_fitness`); study them and see if you can figure out how they work."
   ]
  },
  {
   "cell_type": "code",
   "execution_count": null,
   "metadata": {},
   "outputs": [],
   "source": [
    "def fitness(agent):\n",
    "    send_success = agent[2][0]\n",
    "    send_n = agent[2][1]\n",
    "    receive_success = agent[2][2]\n",
    "    receive_n = agent[2][3]\n",
    "    if send_n == 0:\n",
    "        send_n = 1\n",
    "    if receive_n == 0:\n",
    "        receive_n = 1\n",
    "    return ((send_success/send_n) * send_weighting +\n",
    "            (receive_success/receive_n) * receive_weighting) + 1\n",
    "\n",
    "def sum_fitness(population):\n",
    "    total = 0\n",
    "    for agent in population:\n",
    "        total += fitness(agent)\n",
    "    return total"
   ]
  },
  {
   "cell_type": "markdown",
   "metadata": {},
   "source": [
    "- Why are the variables send_n and receive_n sometimes set to 1 in the fitness function?\n",
    "- What do the send_weighting and receive_weighting variables do? What variables does the fitness function depend on? \n",
    "- Why is there a “+1” here?"
   ]
  },
  {
   "cell_type": "markdown",
   "metadata": {},
   "source": [
    "### Mutation\n",
    "\n",
    "The next function mutates the signalling system by going through each cell in the matrix, deciding whether a mutation should take place, and, if so, assigning a new value to the cell. Note that this function contains a new random function `random.randint(x, y)`; this returns a random integer between x and y, including both x and y; `random.randint(x, y)` is therefore equivalent to `random.randrange(x, y + 1)`."
   ]
  },
  {
   "cell_type": "code",
   "execution_count": null,
   "metadata": {},
   "outputs": [],
   "source": [
    "def mutate(system):\n",
    "    for row_i in range(len(system)):\n",
    "        for column_i in range(len(system[0])):\n",
    "            if random.random() < mutation_rate:\n",
    "                system[row_i][column_i] = random.randint(0, mutation_max)"
   ]
  },
  {
   "cell_type": "markdown",
   "metadata": {},
   "source": [
    "- How does the program make sure that it goes through each cell in the matrix?\n",
    "- How frequently does mutation happen?"
   ]
  },
  {
   "cell_type": "markdown",
   "metadata": {},
   "source": [
    "### Breeding the next generation of agents\n",
    "\n",
    "The next two functions create a new population of agents based on the fitness of the existing agents. The probability of being picked as a parent agent is proportional to the agent’s fitness. There is another new random function `random.uniform(x, y)`, which returns a random floating-point number between x and y; `random.uniform(0,1)` is equivalent to `random.random()`. Make sure you understand how the `pick_parent` function works - it’s quite clever, you might need paper and pencil to work it out!"
   ]
  },
  {
   "cell_type": "code",
   "execution_count": null,
   "metadata": {},
   "outputs": [],
   "source": [
    "def pick_parent(population, sum_f):\n",
    "    accumulator = 0\n",
    "    r = random.uniform(0, sum_f)\n",
    "    for agent in population:\n",
    "        accumulator += fitness(agent)\n",
    "        if r < accumulator:\n",
    "            return agent\n",
    "\n",
    "def new_population(population):\n",
    "    new_p = []\n",
    "    sum_f = sum_fitness(population)\n",
    "    for i in range(len(population)):\n",
    "        parent=pick_parent(population, sum_f)\n",
    "        child_production_system = deepcopy(parent[0])\n",
    "        child_reception_system = deepcopy(parent[1])\n",
    "        mutate(child_production_system)\n",
    "        mutate(child_reception_system)\n",
    "        child=[child_production_system,\n",
    "               child_reception_system,\n",
    "               [0., 0., 0., 0.]]\n",
    "        new_p.append(child)\n",
    "    return new_p"
   ]
  },
  {
   "cell_type": "markdown",
   "metadata": {},
   "source": [
    "- How does the program ensure that the probability of being picked as a parent is proportional to fitness?\n",
    "- Why is `deepcopy` used in `new_population`?"
   ]
  },
  {
   "cell_type": "markdown",
   "metadata": {},
   "source": [
    "### Establishing a random population of agents\n",
    "\n",
    "The function `random_system` generates a random signalling system, and this is used to generate a random population of agents (`random_population`)."
   ]
  },
  {
   "cell_type": "code",
   "execution_count": null,
   "metadata": {},
   "outputs": [],
   "source": [
    "def random_system(rows,columns):\n",
    "    system = []\n",
    "    for i in range(rows):\n",
    "        row = []\n",
    "        for j in range(columns):\n",
    "            row.append(random.randint(0, mutation_max))\n",
    "        system.append(row)\n",
    "    return system\n",
    "\n",
    "def random_population(size):\n",
    "    population = []\n",
    "    for i in range(size):\n",
    "        population.append([random_system(meanings, signals),\n",
    "                           random_system(signals, meanings),\n",
    "                           [0., 0., 0., 0.]])\n",
    "    return population"
   ]
  },
  {
   "cell_type": "markdown",
   "metadata": {},
   "source": [
    "### Running the simulation (at last!)"
   ]
  },
  {
   "cell_type": "code",
   "execution_count": null,
   "metadata": {},
   "outputs": [],
   "source": [
    "def simulation(generations):\n",
    "    accumulator=[]\n",
    "    population = random_population(size)\n",
    "    for i in range(generations):\n",
    "        for j in range(interactions):\n",
    "            pop_update(population)\n",
    "        average_fitness=(sum_fitness(population) / size)\n",
    "        accumulator.append(average_fitness)\n",
    "        population = new_population(population)\n",
    "    return [population, accumulator]"
   ]
  },
  {
   "cell_type": "markdown",
   "metadata": {},
   "source": [
    "This function runs the main simulation. Make sure that you understand how it works, by studying the above functions again if necessary. \n",
    "\n",
    "You can run the simulation by typing `simulation(100)` into a cell, which will return a lot of data. Perhaps more usefully, you could do something like:\n",
    "\n",
    "```python\n",
    "my_pop, fitness_list = simulation(100)\n",
    "plt.plot(fitness_list)\n",
    "plt.xlabel('generations')\n",
    "plt.ylabel('fitness')\n",
    "plt.grid()\n",
    "```"
   ]
  },
  {
   "cell_type": "code",
   "execution_count": null,
   "metadata": {},
   "outputs": [],
   "source": []
  },
  {
   "cell_type": "markdown",
   "metadata": {},
   "source": [
    "- How often does the population communicate in each generation?\n",
    "- At what point are agents assessed for fitness?\n",
    "- Run the simulation for a few generations: what do values returned by simulation signify?\n",
    "- Run it again, with different numbers of generations: how long does it take for a stable, successful communication system to emerge? (Note: 1000 generations takes about 10-20 seconds, so be wary of starting very very long runs)"
   ]
  },
  {
   "cell_type": "code",
   "execution_count": null,
   "metadata": {},
   "outputs": [],
   "source": []
  },
  {
   "cell_type": "markdown",
   "metadata": {},
   "source": [
    "- Now try changing one of the simulation parameters defined in the cell a few pages up (e.g. `mutation_rate`, `interactions`, `signals` etc. etc.) and running the simulation again. \n",
    "\n",
    "If you like, you can plot multiple runs of the simulation with different parameters on the same graph. For example:\n",
    "\n",
    "```python\n",
    "interactions = 1000\n",
    "my_pop, fitness_list1 = simulation(100)\n",
    "\n",
    "interactions = 100\n",
    "my_pop, fitness_list2 = simulation(100)\n",
    "\n",
    "plt.plot(fitness_list1, color='red', label='1000 interactions')\n",
    "plt.plot(fitness_list2, color='green', label='100 interactions')\n",
    "plt.xlabel('generations')\n",
    "plt.ylabel('fitness')\n",
    "plt.legend()\n",
    "plt.grid()\n",
    "```\n",
    "\n",
    "Or, better still, you could do a bunch of runs of the simulation, and then compare them in a plot, like this (which aggregates 10 runs in each of the two paramater settings being compared):\n",
    "\n",
    "```python\n",
    "interactions = 1000\n",
    "fitness_list1s = []\n",
    "for n in range(10):\n",
    "    my_pop, fitness_list1 = simulation(100)\n",
    "    fitness_list1s.append(fitness_list1)\n",
    "\n",
    "interactions = 100\n",
    "fitness_list2s = []\n",
    "for n in range(10):\n",
    "    my_pop, fitness_list2 = simulation(100)\n",
    "    fitness_list2s.append(fitness_list2)\n",
    "    \n",
    "    \n",
    "for fitness_list1 in fitness_list1s:\n",
    "        plt.plot(fitness_list1, color='red', alpha=0.3')\n",
    "plt.plot([], color='red', label='1000 interactions')\n",
    "\n",
    "for fitness_list2 in fitness_list2s:\n",
    "        plt.plot(fitness_list2, color='green', alpha=0.3)\n",
    "plt.plot([], color='green', label='100 interactions')\n",
    "\n",
    "    \n",
    "plt.xlabel('generations')\n",
    "plt.ylabel('fitness')\n",
    "plt.legend()\n",
    "plt.grid()\n",
    "```\n",
    "\n",
    "N.B. You might want to run the simulations and plot the graphs in separate cells in the notebook, so you don't end up re-running the simulations each time you want to fiddle with the way the graphs look."
   ]
  },
  {
   "cell_type": "code",
   "execution_count": null,
   "metadata": {},
   "outputs": [],
   "source": []
  },
  {
   "cell_type": "markdown",
   "metadata": {},
   "source": [
    "### Questions\n",
    "\n",
    "Everyone should attempt questions 1 and 2, and have a think about question 4.\n",
    "\n",
    "1. Under what conditions does stable, successful communication evolve? (Note that it is a very good idea to run the simulation a few times for each setting of the parameters you want to test, and plot the results).\n",
    "2. Can you speed up evolution (or slow it down)? How? Is there a limit to how fast evolution can happen in the model?\n",
    "3. **[optional]** In earlier notebooks we gave you the option of modelling production and reception using a single matrix of weights, or of modelling populations in a more structured way (e.g. where each individual communicated with their neighbours). What difference do you think these factors will make to the evolution of communication? Make the necessary adjustments to the code and find out.\n",
    "4. In this model a parent’s signalling system is transmitted directly to their offspring - this is our model of the genetic transmission of an innate signalling system. How else might a signalling system be transmitted from parent to offspring, and how might you model that process?"
   ]
  },
  {
   "cell_type": "code",
   "execution_count": null,
   "metadata": {},
   "outputs": [],
   "source": []
  }
 ],
 "metadata": {
  "anaconda-cloud": {},
  "kernelspec": {
   "display_name": "Python 3",
   "language": "python",
   "name": "python3"
  },
  "language_info": {
   "codemirror_mode": {
    "name": "ipython",
    "version": 3
   },
   "file_extension": ".py",
   "mimetype": "text/x-python",
   "name": "python",
   "nbconvert_exporter": "python",
   "pygments_lexer": "ipython3",
   "version": "3.6.4"
  }
 },
 "nbformat": 4,
 "nbformat_minor": 1
}
