{
 "cells": [
  {
   "cell_type": "markdown",
   "metadata": {},
   "source": [
    "# Simulating Language 9, When will optimal signalling evolve? (lecture)"
   ]
  },
  {
   "cell_type": "markdown",
   "metadata": {},
   "source": [
    "*This is a first draft of lecture notes for the Simulating Language course. It probably contains lots of typos!*"
   ]
  },
  {
   "cell_type": "markdown",
   "metadata": {},
   "source": [
    "In the last lecture, we talked in general about how evolution by natural selection might be the explanation for how species end up with successful communication systems - i.e., ones that lead to a communicative accuracy score of 1. In the labs we extended our simple matrix-based model of sending and receiving first to create a population of agents, and second to evolve that population by selecting agents who were more successful at communication to be parents of new agents (with similar signalling systems as their own, implementing biological inheritance). Building the model made it clear that there are some details about exactly *how* you implement biological evolution that matter for whether communication evolves. Specifically, it's important to consider exactly how you assess fitness - who the agents talk to, and who benefits from successful communication.\n",
    "\n",
    "## Optimal communication\n",
    "\n",
    "In this lecture we're going to mainly look at a short, but very elegant, paper by Mike Oliphant [(Oliphant 1996)](https://www.sciencedirect.com/science/article/pii/0303264795015434)\n",
    "that used a similar model to the one we're developing here to look at the conditions under which optimal communication evolves. But what makes a communication system optimal exactly? We've already talked about the relative importance of avoiding homonymy versus avoiding synonymy, but Oliphant uses a slightly different terminology. He talks about what he calls \"Saussurean\" signalling as the ideal communication system:\n",
    "\n",
    "*\"What is important is that each signal 'means' the same thing to the individual sending it and the individual receiving it. It must be possible to map some concept onto a symbol and then map back from the symbol to get the original concept.\" [(Oliphant 1996)](https://www.sciencedirect.com/science/article/pii/0303264795015434)*\n",
    "\n",
    "He calls such systems \"Saussurean\" (inspired by the classic diagram from [Saussure (1915)](http://home.wlu.edu/~levys/courses/anth252f2006/saussure.pdf), in which there is a bidirectional relationship between signified and signifier).\n",
    "\n",
    "![img](img/saussure-arbor.gif)\n",
    "\n",
    "Here's an example of a production and reception matrix that is Saussurean in this sense:\n",
    "\n",
    "|.    |$s_1$|$s_2$|$s_3$|\n",
    "|-----|-----|-----|-----|\n",
    "|$m_1$|1    |0    |0    |\n",
    "|$m_2$|0    |1    |0    |\n",
    "|$m_3$|0    |0    |1    |\n",
    "\n",
    "\n",
    "|.    |$m_1$|$m_2$|$m_3$|\n",
    "|-----|-----|-----|-----|\n",
    "|$s_1$|1    |0    |0    |\n",
    "|$s_2$|0    |1    |0    |\n",
    "|$s_3$|0    |0    |1    |\n",
    "\n",
    "\n",
    "![img](img/Saussurean_system.png)\n",
    "\n",
    "So, for Oliphant, optimal communication is Saussurean.\n",
    "\n",
    "### Optimal does not mean inevitable!\n",
    "\n",
    "The most important lesson we learn from Oliphant's paper, and from our own explorations in the lab is that **natural selection does not necessarily create optimal solutions!** In other words, Saussurean signalling is not the inevitable result of evolution, despite the fact that a population that is signalling using a bidirectional mapping between meanings and signals *will* be communicating optimally. Surprisingly, this is even true if we using a fitness scoring system that assigns highest fitness to individuals that communicate well! Oliphant aims to show that optimal signalling can only emerge given very specific conditions - results we also found in our own simulations in the lab.\n",
    "\n",
    "We'll look at each of Oliphant's four simulations in turn, and then review our own findings from the lab.\n"
   ]
  },
  {
   "cell_type": "markdown",
   "metadata": {},
   "source": [
    "## Simulation 1\n",
    "\n",
    "Oliphant's first simulation is a simplified variant of the model we've been developing in the lab, using two signals and two meanings and a completely deterministic mapping between the two of them. (In other words, the sender will always produce a single signal for a particular meaning, and the receiver will always understand a single meaning for a particular signal.) This is different from our own model because the matrix representation allows for any number of meanings and signals, and also allows for indeterminacy even with the winner-take-all algorithm because multiple cells on a row in a matrix can share the same maximum score.\n",
    "\n",
    "Other than this, the way the simulation works is similar to ours. Crucially, there is heritable variation in fitness, because: offspring tend to have similar signalling systems to their parents, variability can be introduced by mutations, and the probability of being a parent depends on the agents' signalling systems. This means that we should expect to inevitably see evolution by natural selection.\n",
    "\n",
    "In his first simulation, Oliphant scores each agent on its success at being a sender *and* its success at being a receiver, and then uses these scores to determine each agent's fitness. In these circumstances he finds that optimal signalling does indeed evolve in the population. Here's one of the graphs from his paper:\n",
    "\n",
    "![img](img/Oliphant_simulation_1.jpeg)\n",
    "\n",
    "Note that this isn't a graph of fitness, rather the frequency of agents with one of two possible Saussurean communication systems in his model, namely the one that maps meaning 1 to signal 2 and meaning 2 to signal 1 (bidirectionally).\n",
    "\n",
    "So, from this result he concludes that one way to get optimal (Saussurean) signalling to evolve is by having selection based on **mutual benefit** to both sender and receiver."
   ]
  },
  {
   "cell_type": "markdown",
   "metadata": {},
   "source": [
    "## Simulation 2\n",
    "\n",
    "This all seems fine, but we need to ask the question: is mutual benefit realistic from an ecological point of view? We started this section of the course with the example of the vervet monkey alarm calling system. Who benefits if an alarm call is successful? It seems clear that the receiver benefits (they run up into a tree and avoid a leopard!). But the benefits to the sender seem much more opaque. That monkey already knew there was a leopard, and knew to go up the tree - assuming they weren't up the tree already. If anything, they seem likely to lose out by producing a loud alarm and attracting attention of the leopard.\n",
    "\n",
    "To model this kind of situation, Oliphant runs the simulation again but with only receivers benefitting from successful signalling. In other words, the fitness of the agents is only calculated based on whether they correctly understood any signals they received.\n",
    "\n",
    "The results are dramatically different. The population does not converge on optimal signalling. When he examined exactly what the agents were doing, he found that the *reception behaviour* looks optimal. But it was unstable, constantly flipping between the two possible optimal mappings from meanings to signals (i.e. where each signal maps to a different meaning). On the other hand, the *transmission behaviour* seems to wander about at random. It is these random fluctuations in the transmission behaviour of the population that drive the unstable switching between different reception systems. So, if one particular signal is sent more often by the population as a whole for one of the meanings, then the population rapidly switches to have the corresponding reception system in place. However, because the transmission behaviour of the population is drifting about at random, then agents can only do slightly better than chance as a whole in reception.\n",
    "\n",
    "![img](img/Oliphant_simulation_2.jpeg)\n",
    "\n",
    "So, the conclusion from this second simulation is that optimal signalling cannot evolve if only receivers benefit.\n",
    "\n",
    "This is, on the face of it, a surprising result. Even if you only score agents on their success at receiving signals, they would be better off (i.e. fitter) if they did communicate using a Saussurean system. This then a clear case where natural selection does not lead to an increase in fitness.\n",
    "\n",
    "We actually got a hint this might happen even before we built the evolutionary simulation when we were experimenting with different populations of agents with different signalling systems. Consider a population of optimally communicating agents, where each agent sends signals with no homonymy and each agent receives those signals perfectly. Now imagine introducing a single agent whose reception behaviour is the same as the rest of the population but whose production behaviour is the opposite. If the fitness of these agents is dependent on reception only, then this introduced \"mutant\" agent will score just as highly as if they had perfect optimal production behaviour. Really, the only agents that are affected by that agent's poor production are the ones in the rest of the population. In this scenario, mutants who benefit from others' helpful productions but who themselves don't produce helpfully will invade the population.\n",
    "\n",
    "Of course, this ultimately means that the fitness of everyone - including the unhelpful producers - suffers. In the end, it is impossible for natural selection to maintain optimal production behaviours if agents are chosen on their reception success even if that reception success would be higher overall if everyone produced optimally. This is a demonstration of the limits of natural selection as an optimising force. It won't necessarily build the best of all possible worlds. It matters who benefits on a local level when the selection is taking place."
   ]
  },
  {
   "cell_type": "markdown",
   "metadata": {},
   "source": [
    "## Simulation 3\n",
    "\n",
    "There's something a bit odd about the result of Oliphant's simulation 2. After all, we know that alarm call systems do indeed exist in nature, and surely this is a case of individuals producing signals optimally even though it is only the receivers who are benefiting. This is part of a general problem for evolutionary biology in explaining the origins of *altruism* in nature. Why do individuals ever help each other given that natural selection works to favour genes who aid their own transmission from one generation to the next?\n",
    "\n",
    "One answer is that individuals might act altruistically if there's some likelihood that altruistic act will lead to them benefitting from a return favour at a later date. You can think of this as \"I'll scratch your back if you scratch mine\" or \"I'll signal optimally to you if you signal optimally to me\". Oliphant's simulation 3 looks at the evolution of this strategy in a very cunning and elegant way.\n",
    "\n",
    "He adds a second signalling system to the agents - i.e. a second set of genes that encodes an alternative signalling behaviour. Each time an agent communicates with another individual it chooses one of its two signalling systems to use based on whether the previous round of communication *with that individual* was successful. In other words, one of the signalling systems ends up being used with helpful speakers and one with unhelpful speakers. (Oliphant also adds a gene that determines whether to assume individuals are helpful or unhelpful when they are met for the first time.)\n",
    "\n",
    "Running this simulation with fitness being calculated only on reception success results in a strikingly different result from Simulation 2. Now, communicatively optimal signalling systems do indeed evolve even though agents don't get assigned fitness for producing optimally. How is this possible?\n",
    "\n",
    "What happens is that the second signalling system evolves to be deliberately unhelpful. It acts as a kind of \"punishment\" for agents who send unoptimal signals. This leads to a direct benefit for signallers to send optimally so that they can avoid punishment (and receive optimal signals themselves) in the next round of communication. This puts positive selection pressure on genes for optimal production even though scoring for fitness is only on reception."
   ]
  },
  {
   "cell_type": "markdown",
   "metadata": {},
   "source": [
    "## Simulation 4\n",
    "\n",
    "Oliphant's final simulation offers a final way in which optimal signalling can evolve, without mutualism or reciprocity. This simulation demonstrates that it is not only the way in which you calculate fitness that matters, but also how you choose individuals to act as communicative partners in a signalling game.\n",
    "\n",
    "So far, we've been assuming that pairs of agents are picked at random from the population to take part in communication, but of course in the real world populations are *organised*. In other words, there are some pairs of individuals that will interact more often than others. One way in which this organisation can happen is *spatially*. To model this, Oliphant in his fourth simulation, organises agents in a ring such that they are likely to communicate with their nearer neighbours in this ring. Crucially, reproduction is also organised spatially such that related individuals are also nearby each other in the ring.\n",
    "\n",
    "The result of this simulation, which is otherwise identical to simulation 2 (i.e. fitness is determined only on reception success and there is no mechanism for reciprocity), is that optimal signalling does evolve:\n",
    "\n",
    "![img](img/Oliphant_simulation_4.jpeg)\n",
    "\n",
    "This is, on the face of it, somewhat surprising. Why would organising the population spatially make such a stark difference?\n",
    "\n",
    "Oliphant argues that the key is that fitness is being calculated based on success at communicating with your kin rather than random unrelated individuals. An important idea in evolutionary biology is that of *kin selection*, which states that selection can benefit the reproductive success of related individuals even at the expense of an organism's own survival. The biologist J.B.S. Haldane captured the concept pithily by saying he'd be willing to die for \"two brothers or eight cousins\". The point is that a gene that determined self-sacrificing behaviour could nevertheless increase in frequency in a population as long as it favoured the survival of enough other indivdiuals who are likely to carry that same gene.\n",
    "\n",
    "Hamilton [(1964a](https://www.sciencedirect.com/science/article/pii/0022519364900384); [1964b)](https://www.sciencedirect.com/science/article/pii/0022519364900396) \n",
    "set out how this kind of selection can work by showing that genes for a behaviour can increase in frequency as long as the cost to the organism producing that behaviour is lower than the benefit to other organisms scaled by their relatedness to the producer of the behaviour. Hamilton suggested that one way this could happen is in spatially organised populations where interactions tend to be among relatives."
   ]
  },
  {
   "cell_type": "markdown",
   "metadata": {},
   "source": [
    "## Summary\n",
    "\n",
    "The important conclusion from Oliphant's simulations is that optimal (i.e. Saussurean) signalling does not automatically evolve by natural selection just by virtue of it being a good thing for a species to have! Nevertheless we do see it all over the place in nature.\n",
    "\n",
    "These simulations suggest that where we do see it, one of three possible scenarios could be involved:\n",
    "\n",
    "1. **Mutualism.** It could be that the ecological context of the communication is one where both parties benefit from communication taking place. (Consider a flower communicating to a bee where nectar is to be found. This is a case of mutual benefit for both parties.)\n",
    "\n",
    "2. **Reciprocity.** It could be that individuals are keeping track of whether indivdiuals are helpful or not and responding in kind. In this case, \"altruistic\" behaviour is based on the presumption that there will be some payback in the future. (It may be the case that much complex communication among non-kin is ultimately the result of some kind of reciprocity.)\n",
    "\n",
    "3. **Spatial organisation resulting in kin selection.** It could be that the relatedness of individuals who benefit from communication is high enough for selection to result in the increase of genes for optimal production behaviour even if fitness does not increase for the sender. (This is likely to be the case where populations are spatially organised such that related individuals are more likely to interact than unrelated ones.)"
   ]
  }
 ],
 "metadata": {
  "kernelspec": {
   "display_name": "Python 3",
   "language": "python",
   "name": "python3"
  },
  "language_info": {
   "codemirror_mode": {
    "name": "ipython",
    "version": 3
   },
   "file_extension": ".py",
   "mimetype": "text/x-python",
   "name": "python",
   "nbconvert_exporter": "python",
   "pygments_lexer": "ipython3",
   "version": "3.6.6"
  }
 },
 "nbformat": 4,
 "nbformat_minor": 2
}
